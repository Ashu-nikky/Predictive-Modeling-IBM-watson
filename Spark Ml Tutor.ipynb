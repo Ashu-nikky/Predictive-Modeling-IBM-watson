{
    "nbformat_minor": 1, 
    "cells": [
        {
            "execution_count": 2, 
            "cell_type": "code", 
            "metadata": {}, 
            "outputs": [
                {
                    "output_type": "stream", 
                    "name": "stdout", 
                    "text": "Collecting wget\n  Downloading https://files.pythonhosted.org/packages/47/6a/62e288da7bcda82b935ff0c6cfe542970f04e29c756b0e147251b2fb251f/wget-3.2.zip\nBuilding wheels for collected packages: wget\n  Running setup.py bdist_wheel for wget ... \u001b[?25ldone\n\u001b[?25h  Stored in directory: /gpfs/fs01/user/s41c-f67f6adfb3a62a-e938023493eb/.cache/pip/wheels/40/15/30/7d8f7cea2902b4db79e3fea550d7d7b85ecb27ef992b618f3f\nSuccessfully built wget\nInstalling collected packages: wget\nSuccessfully installed wget-3.2\n"
                }
            ], 
            "source": "#Install the wget which is used to get the data from web servers\n!pip install wget --user "
        }, 
        {
            "execution_count": 3, 
            "cell_type": "code", 
            "metadata": {}, 
            "outputs": [
                {
                    "output_type": "stream", 
                    "name": "stdout", 
                    "text": "GoSales_Tx_NaiveBayes.csv\n"
                }
            ], 
            "source": "#Importing the NAIVEbayes go sales data\nimport wget\n                        \nlink_to_data = 'https://apsportal.ibm.com/exchange-api/v1/entries/8044492073eb964f46597b4be06ff5ea/data?accessKey=9561295fa407698694b1e254d0099600'\nfilename = wget.download(link_to_data)\n\nprint filename"
        }, 
        {
            "execution_count": 11, 
            "cell_type": "code", 
            "metadata": {}, 
            "outputs": [], 
            "source": "# spark 2.2.0 intialization \n\nspark = SparkSession.builder.getOrCreate()\n\n#Dataframe\n\ndf_data = spark.read.format('org.apache.spark.sql.execution.datasources.csv.CSVFileFormat')\\\n        .option('header','true').option('inferSchema','true').load(filename)\n"
        }, 
        {
            "execution_count": 12, 
            "cell_type": "code", 
            "metadata": {}, 
            "outputs": [
                {
                    "output_type": "stream", 
                    "name": "stdout", 
                    "text": "root\n |-- PRODUCT_LINE: string (nullable = true)\n |-- GENDER: string (nullable = true)\n |-- AGE: integer (nullable = true)\n |-- MARITAL_STATUS: string (nullable = true)\n |-- PROFESSION: string (nullable = true)\n\n"
                }
            ], 
            "source": "df_data.printSchema()"
        }, 
        {
            "execution_count": 16, 
            "cell_type": "code", 
            "metadata": {}, 
            "outputs": [
                {
                    "output_type": "stream", 
                    "name": "stdout", 
                    "text": "+------------------------+------+---+--------------+------------+\n|PRODUCT_LINE            |GENDER|AGE|MARITAL_STATUS|PROFESSION  |\n+------------------------+------+---+--------------+------------+\n|Personal Accessories    |M     |27 |Single        |Professional|\n|Personal Accessories    |F     |39 |Married       |Other       |\n|Mountaineering Equipment|F     |39 |Married       |Other       |\n|Personal Accessories    |F     |56 |Unspecified   |Hospitality |\n|Golf Equipment          |M     |45 |Married       |Retired     |\n|Golf Equipment          |M     |45 |Married       |Retired     |\n|Camping Equipment       |F     |39 |Married       |Other       |\n|Camping Equipment       |F     |49 |Married       |Other       |\n|Outdoor Protection      |F     |49 |Married       |Other       |\n|Golf Equipment          |M     |47 |Married       |Retired     |\n+------------------------+------+---+--------------+------------+\nonly showing top 10 rows\n\n"
                }
            ], 
            "source": "df_data.show(10,False)"
        }, 
        {
            "execution_count": 30, 
            "cell_type": "code", 
            "metadata": {}, 
            "outputs": [
                {
                    "output_type": "stream", 
                    "name": "stdout", 
                    "text": "Total count for the input GO Sales dataset is 60252\n"
                }
            ], 
            "source": "print(\"Total count for the input GO Sales dataset is \"+ str(df_data.count()))"
        }, 
        {
            "execution_count": 35, 
            "cell_type": "code", 
            "metadata": {}, 
            "outputs": [
                {
                    "output_type": "stream", 
                    "name": "stdout", 
                    "text": "Number of training records: 48176\nNumber of testing records : 10860\nNumber of prediction records : 1216\ntotal count of the dataset: 60252\n"
                }
            ], 
            "source": "#Apache\u00ae Spark machine learning model\n\n#Prepare data randomSplit(weights, seed=None)\n#Parameters:\t\n#weights \u2013 list of doubles as weights with which to split the DataFrame. Weights will be normalized if they don\u2019t sum up to 1.0.\n#seed \u2013 The seed for sampling.\n\nsplitted_data = df_data.randomSplit([0.8, 0.18, 0.02], 24)\ntrain_data = splitted_data[0]\ntest_data = splitted_data[1]\npredict_data = splitted_data[2]\n\nprint \"Number of training records: \" + str(train_data.count())\n#train_data.show(10, False)\nprint \"Number of testing records : \" + str(test_data.count())\n#test_data.show(10, False)\nprint \"Number of prediction records : \" + str(predict_data.count())\n#predict_data.show(10, False)\nprint \"total count of the dataset: \" + str(predict_data.count() + train_data.count() + test_data.count())\n\n#The train data set, which is the largest group, is used for training.\n#The test data set will be used for model evaluation and is used to test the assumptions of the model.\n#The predict data set will be used for prediction."
        }, 
        {
            "execution_count": 40, 
            "cell_type": "code", 
            "metadata": {}, 
            "outputs": [], 
            "source": "#Create pipeline and train a model\n\nfrom pyspark.ml.feature import OneHotEncoder, StringIndexer, IndexToString, VectorAssembler\nfrom pyspark.ml.classification import RandomForestClassifier\nfrom pyspark.ml.evaluation import MulticlassClassificationEvaluator\nfrom pyspark.ml import Pipeline, Model"
        }, 
        {
            "execution_count": 61, 
            "cell_type": "code", 
            "metadata": {}, 
            "outputs": [], 
            "source": "#Convert all the string fields to numeric ones by using the StringIndexer transformer.\n#indexers = [StringIndexer(inputCol=column, outputCol=column+\"_index\").fit(df_data) for column in list(set(df_data.columns)) ]\n\nstringIndexer_label = StringIndexer(inputCol=\"PRODUCT_LINE\", outputCol=\"label\").fit(df_data)\nstringIndexer_prof = StringIndexer(inputCol=\"PROFESSION\", outputCol=\"PROFESSION_IX\")\nstringIndexer_gend = StringIndexer(inputCol=\"GENDER\", outputCol=\"GENDER_IX\")\nstringIndexer_mar = StringIndexer(inputCol=\"MARITAL_STATUS\", outputCol=\"MARITAL_STATUS_IX\")\n\n#pipeline = Pipeline(stages=indexers)\n#df_r = pipeline.fit(df_data).transform(df_data)\n#df_r.show(10, False)\n#df_ind = stringIndexer_label.transform(df_data)\n#df_ind.printSchema()\n#df_ind.show(50, False)"
        }, 
        {
            "execution_count": 64, 
            "cell_type": "code", 
            "metadata": {}, 
            "outputs": [], 
            "source": "#Create a feature vector by combining all features together..\nvectorAssembler_features = VectorAssembler(inputCols=[\"GENDER_IX\", \"AGE\", \"MARITAL_STATUS_IX\", \"PROFESSION_IX\"], outputCol=\"features\")"
        }, 
        {
            "execution_count": 87, 
            "cell_type": "code", 
            "metadata": {}, 
            "outputs": [], 
            "source": "#define estimators you want to use for classification\nrf = RandomForestClassifier(labelCol=\"label\", featuresCol=\"features\")\n"
        }, 
        {
            "execution_count": 88, 
            "cell_type": "code", 
            "metadata": {}, 
            "outputs": [], 
            "source": "#indexed labels back to original labels.\nlabelConverter = IndexToString(inputCol=\"prediction\", outputCol=\"predictedLabel\", labels=stringIndexer_label.labels)\n\n"
        }, 
        {
            "execution_count": 89, 
            "cell_type": "code", 
            "metadata": {}, 
            "outputs": [], 
            "source": "#A pipeline consists of transformers and an estimator\npipeline_rf = Pipeline(stages=[stringIndexer_label, stringIndexer_prof, stringIndexer_gend, stringIndexer_mar,\n                               vectorAssembler_features, rf, labelConverter])"
        }, 
        {
            "execution_count": 91, 
            "cell_type": "code", 
            "metadata": {}, 
            "outputs": [
                {
                    "output_type": "stream", 
                    "name": "stdout", 
                    "text": "root\n |-- PRODUCT_LINE: string (nullable = true)\n |-- GENDER: string (nullable = true)\n |-- AGE: integer (nullable = true)\n |-- MARITAL_STATUS: string (nullable = true)\n |-- PROFESSION: string (nullable = true)\n\n"
                }
            ], 
            "source": "#Training the Model\ntrain_data.printSchema()\nmodel_rf = pipeline_rf.fit(train_data)\n"
        }, 
        {
            "execution_count": 92, 
            "cell_type": "code", 
            "metadata": {}, 
            "outputs": [
                {
                    "output_type": "stream", 
                    "name": "stdout", 
                    "text": "Accuracy = 0.584162\nTest Error = 0.415838\n"
                }
            ], 
            "source": "#model accuracy \npredictions = model_rf.transform(test_data)\nevaluatorRF = MulticlassClassificationEvaluator(labelCol=\"label\", predictionCol=\"prediction\", metricName=\"accuracy\")\naccuracy = evaluatorRF.evaluate(predictions)\nprint(\"Accuracy = %g\" % accuracy)\nprint(\"Test Error = %g\" % (1.0 - accuracy))"
        }, 
        {
            "execution_count": 93, 
            "cell_type": "code", 
            "metadata": {}, 
            "outputs": [], 
            "source": "#Persist model\n\nfrom repository_v3.mlrepositoryclient import MLRepositoryClient\nfrom repository_v3.mlrepositoryartifact import MLRepositoryArtifact"
        }, 
        {
            "execution_count": 94, 
            "cell_type": "code", 
            "metadata": {}, 
            "outputs": [], 
            "source": "wml_credentials={\n  \"url\": \"https://ibm-watson-ml.mybluemix.net\",\n  \"access_key\": \"***\",\n  \"username\": \"919bbb87-dce6-4218-839c-7d6ce418b987\",\n  \"password\": \"e10fa74e-8691-44f8-8e88-9fdf2013b1b8\",\n  \"instance_id\": \"028b5393-6057-48a7-a8f2-a5d49679ed4f\"\n}"
        }, 
        {
            "execution_count": 95, 
            "cell_type": "code", 
            "metadata": {}, 
            "outputs": [], 
            "source": "ml_repository_client = MLRepositoryClient(wml_credentials['url'])\nml_repository_client.authorize(wml_credentials['username'], wml_credentials['password'])"
        }, 
        {
            "execution_count": 96, 
            "cell_type": "code", 
            "metadata": {}, 
            "outputs": [], 
            "source": "pipeline_artifact = MLRepositoryArtifact(pipeline_rf, name=\"pipeline\")"
        }, 
        {
            "execution_count": 97, 
            "cell_type": "code", 
            "metadata": {}, 
            "outputs": [], 
            "source": "model_artifact = MLRepositoryArtifact(model_rf, training_data=train_data, name=\"Product Line Prediction\", pipeline_artifact=pipeline_artifact)"
        }, 
        {
            "execution_count": 98, 
            "cell_type": "code", 
            "metadata": {}, 
            "outputs": [], 
            "source": "#Save pipeline and model\nsaved_model = ml_repository_client.models.save(model_artifact)"
        }, 
        {
            "execution_count": 99, 
            "cell_type": "code", 
            "metadata": {}, 
            "outputs": [
                {
                    "execution_count": 99, 
                    "metadata": {}, 
                    "data": {
                        "text/plain": "['inputDataSchema',\n 'tags',\n 'trainingDataReference',\n 'modelVersionUrl',\n 'creationTime',\n 'runtimes',\n 'trainingDataSchema',\n 'trainingDefinitionVersionUrl',\n 'version',\n 'frameworkName',\n 'hyperParameters',\n 'contentStatus',\n 'framework_runtimes',\n 'label_column',\n 'frameworkVersion']"
                    }, 
                    "output_type": "execute_result"
                }
            ], 
            "source": "#Get saved model metadata from Watson Machine Learning.\n#meta.available_props() to get the list of available props.\nsaved_model.meta.available_props()"
        }, 
        {
            "execution_count": 106, 
            "cell_type": "code", 
            "metadata": {}, 
            "outputs": [
                {
                    "output_type": "stream", 
                    "name": "stdout", 
                    "text": "modelType: mllib\ncreationTime: 2018-05-20 13:58:05.074000+00:00\nlabel_column: PRODUCT_LINE\ninputDataSchema: {u'fields': [{u'nullable': True, u'type': u'string', u'name': u'GENDER', u'metadata': {}}, {u'nullable': True, u'type': u'integer', u'name': u'AGE', u'metadata': {}}, {u'nullable': True, u'type': u'string', u'name': u'MARITAL_STATUS', u'metadata': {}}, {u'nullable': True, u'type': u'string', u'name': u'PROFESSION', u'metadata': {}}], u'type': u'struct'}\nmodelVersionUrl: https://ibm-watson-ml.mybluemix.net/v3/ml_assets/models/d4c612aa-a27f-411c-82cb-ff335f8a59c0/versions/4480d8a6-23da-440b-95b1-f67003210f34\nframework_runtimes: [{u'version': u'2.1', u'name': u'spark'}]\n"
                }
            ], 
            "source": "print \"modelType: \" + saved_model.meta.prop(\"frameworkName\")\nprint \"creationTime: \" + str(saved_model.meta.prop(\"creationTime\"))\nprint \"label_column: \" + str(saved_model.meta.prop(\"label_column\"))\nprint \"inputDataSchema: \" + str(saved_model.meta.prop(\"inputDataSchema\"))\nprint \"modelVersionUrl: \" + str(saved_model.meta.prop(\"modelVersionUrl\"))\nprint \"framework_runtimes: \" + str(saved_model.meta.prop(\"framework_runtimes\"))\n"
        }, 
        {
            "execution_count": 107, 
            "cell_type": "code", 
            "metadata": {}, 
            "outputs": [], 
            "source": "#Load model\nloadedModelArtifact = ml_repository_client.models.get(saved_model.uid)"
        }, 
        {
            "execution_count": 108, 
            "cell_type": "code", 
            "metadata": {}, 
            "outputs": [
                {
                    "output_type": "stream", 
                    "name": "stdout", 
                    "text": "Product Line Prediction\n"
                }
            ], 
            "source": "print str(loadedModelArtifact.name)"
        }, 
        {
            "execution_count": 109, 
            "cell_type": "code", 
            "metadata": {}, 
            "outputs": [], 
            "source": "#Predict locally and visualize\n\npredictions = loadedModelArtifact.model_instance().transform(predict_data)"
        }, 
        {
            "execution_count": 110, 
            "cell_type": "code", 
            "metadata": {}, 
            "outputs": [
                {
                    "output_type": "stream", 
                    "name": "stdout", 
                    "text": "+-----------------+------+---+--------------+----------+-----+-------------+---------+-----------------+------------------+------------------------------------------------------------------------------------------------+------------------------------------------------------------------------------------------------------+----------+--------------------+\n|PRODUCT_LINE     |GENDER|AGE|MARITAL_STATUS|PROFESSION|label|PROFESSION_IX|GENDER_IX|MARITAL_STATUS_IX|features          |rawPrediction                                                                                   |probability                                                                                           |prediction|predictedLabel      |\n+-----------------+------+---+--------------+----------+-----+-------------+---------+-----------------+------------------+------------------------------------------------------------------------------------------------+------------------------------------------------------------------------------------------------------+----------+--------------------+\n|Camping Equipment|F     |20 |Single        |Other     |0.0  |0.0          |1.0      |1.0              |[1.0,20.0,1.0,0.0]|[5.072272758094395,10.53346912299184,3.6907785432175504,0.22644251397046228,0.47703706172575217]|[0.25361363790471975,0.5266734561495919,0.18453892716087753,0.011322125698523113,0.023851853086287608]|1.0       |Personal Accessories|\n|Camping Equipment|F     |20 |Single        |Other     |0.0  |0.0          |1.0      |1.0              |[1.0,20.0,1.0,0.0]|[5.072272758094395,10.53346912299184,3.6907785432175504,0.22644251397046228,0.47703706172575217]|[0.25361363790471975,0.5266734561495919,0.18453892716087753,0.011322125698523113,0.023851853086287608]|1.0       |Personal Accessories|\n|Camping Equipment|F     |20 |Single        |Other     |0.0  |0.0          |1.0      |1.0              |[1.0,20.0,1.0,0.0]|[5.072272758094395,10.53346912299184,3.6907785432175504,0.22644251397046228,0.47703706172575217]|[0.25361363790471975,0.5266734561495919,0.18453892716087753,0.011322125698523113,0.023851853086287608]|1.0       |Personal Accessories|\n|Camping Equipment|F     |20 |Single        |Other     |0.0  |0.0          |1.0      |1.0              |[1.0,20.0,1.0,0.0]|[5.072272758094395,10.53346912299184,3.6907785432175504,0.22644251397046228,0.47703706172575217]|[0.25361363790471975,0.5266734561495919,0.18453892716087753,0.011322125698523113,0.023851853086287608]|1.0       |Personal Accessories|\n|Camping Equipment|F     |21 |Married       |Other     |0.0  |0.0          |1.0      |0.0              |[1.0,21.0,0.0,0.0]|[6.665721675653096,6.534869287372584,4.4419557326949874,0.8022511000169796,1.5552022042623546]  |[0.33328608378265473,0.32674346436862917,0.22209778663474933,0.040112555000848975,0.07776011021311771]|0.0       |Camping Equipment   |\n+-----------------+------+---+--------------+----------+-----+-------------+---------+-----------------+------------------+------------------------------------------------------------------------------------------------+------------------------------------------------------------------------------------------------------+----------+--------------------+\nonly showing top 5 rows\n\n"
                }
            ], 
            "source": "predictions.show(5,False)"
        }, 
        {
            "execution_count": null, 
            "cell_type": "code", 
            "metadata": {}, 
            "outputs": [], 
            "source": "predictions.select(\"predictedLabel\").groupBy(\"predictedLabel\").count().show(truncate=False)"
        }, 
        {
            "execution_count": null, 
            "cell_type": "code", 
            "metadata": {}, 
            "outputs": [], 
            "source": ""
        }
    ], 
    "metadata": {
        "kernelspec": {
            "display_name": "Python 2 with Spark 2.1", 
            "name": "python2-spark21", 
            "language": "python"
        }, 
        "language_info": {
            "mimetype": "text/x-python", 
            "nbconvert_exporter": "python", 
            "version": "2.7.14", 
            "name": "python", 
            "file_extension": ".py", 
            "pygments_lexer": "ipython2", 
            "codemirror_mode": {
                "version": 2, 
                "name": "ipython"
            }
        }
    }, 
    "nbformat": 4
}